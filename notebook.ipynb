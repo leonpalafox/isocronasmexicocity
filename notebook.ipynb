{
 "cells": [
  {
   "cell_type": "markdown",
   "metadata": {},
   "source": [
    "# Mexico City Metro Map Tutorial\n",
    "\n",
    "This notebook guides you through creating an interactive map of Mexico City's metro system using Python, GeoPandas, and Folium."
   ]
  },
  {
   "cell_type": "markdown",
   "metadata": {},
   "source": [
    "## Setup\n",
    "\n",
    "First, let's install the required packages:"
   ]
  },
  {
   "cell_type": "code",
   "execution_count": null,
   "metadata": {},
   "outputs": [],
   "source": [
    "!pip install geopandas folium requests"
   ]
  },
  {
   "cell_type": "markdown",
   "metadata": {},
   "source": [
    "Now, let's import the necessary libraries:"
   ]
  },
  {
   "cell_type": "code",
   "execution_count": null,
   "metadata": {},
   "outputs": [],
   "source": [
    "import geopandas as gpd\n",
    "import folium\n",
    "import json\n",
    "import requests\n",
    "import time"
   ]
  },
  {
   "cell_type": "markdown",
   "metadata": {},
   "source": [
    "## Step 1: Convert Shapefile to GeoJSON\n",
    "\n",
    "First, we need to upload the shapefile. In Google Colab, you can use the file upload widget:"
   ]
  },
  {
   "cell_type": "code",
   "execution_count": null,
   "metadata": {},
   "outputs": [],
   "source": [
    "from google.colab import files\n",
    "uploaded = files.upload()\n",
    "\n",
    "# Assuming the uploaded file is named 'STC_Metro_estaciones_utm14n.shp'\n",
    "input_shp = 'STC_Metro_estaciones_utm14n.shp'"
   ]
  },
  {
   "cell_type": "markdown",
   "metadata": {},
   "source": [
    "Now, let's convert the shapefile to GeoJSON:"
   ]
  },
  {
   "cell_type": "code",
   "execution_count": null,
   "metadata": {},
   "outputs": [],
   "source": [
    "def convert_shp_to_geojson(input_shp, output_geojson):\n",
    "    gdf = gpd.read_file(input_shp)\n",
    "    gdf.to_file(output_geojson, driver='GeoJSON')\n",
    "    print(f\"Conversion complete. GeoJSON file saved as {output_geojson}\")\n",
    "    return gdf\n",
    "\n",
    "output_geojson = 'mexico_city_subway_stations.geojson'\n",
    "gdf = convert_shp_to_geojson(input_shp, output_geojson)"
   ]
  },
  {
   "cell_type": "markdown",
   "metadata": {},
   "source": [
    "## Step 2: Create the Interactive Map\n",
    "\n",
    "Now, let's create the interactive map with stations and isochrones:"
   ]
  },
  {
   "cell_type": "code",
   "execution_count": null,
   "metadata": {},
   "outputs": [],
   "source": [
    "# OpenRouteService API key\n",
    "ORS_API_KEY = 'YOUR_API_KEY_HERE'\n",
    "\n",
    "def get_isochrone(lat, lng, time_range):\n",
    "    url = \"https://api.openrouteservice.org/v2/isochrones/foot-walking\"\n",
    "    headers = {\n",
    "        'Accept': 'application/json, application/geo+json, application/gpx+xml, img/png; charset=utf-8',\n",
    "        'Authorization': ORS_API_KEY,\n",
    "        'Content-Type': 'application/json; charset=utf-8'\n",
    "    }\n",
    "    data = {\n",
    "        \"locations\": [[lng, lat]],\n",
    "        \"range\": [time_range * 60],  # Convert minutes to seconds\n",
    "        \"attributes\": [\"area\"],\n",
    "        \"units\": \"km\"\n",
    "    }\n",
    "    \n",
    "    response = requests.post(url, json=data, headers=headers)\n",
    "    if response.status_code == 200:\n",
    "        return response.json()\n",
    "    else:\n",
    "        print(f\"Error fetching isochrone: {response.status_code}, {response.text}\")\n",
    "        return None\n",
    "\n",
    "def get_station_color(station_type):\n",
    "    color_map = {\n",
    "        'Terminal / Transbordo': 'orange',\n",
    "        'Terminal': 'red',\n",
    "        'Transbordo': 'blue',\n",
    "        'Intermedia': 'green'\n",
    "    }\n",
    "    return color_map.get(station_type, 'gray')\n",
    "\n",
    "def create_map():\n",
    "    # Load GeoJSON file\n",
    "    with open('mexico_city_subway_stations.geojson', 'r') as f:\n",
    "        metro_stations = json.load(f)\n",
    "\n",
    "    # Create a map centered on Mexico City\n",
    "    m = folium.Map(location=[19.4326, -99.1332], zoom_start=11)\n",
    "\n",
    "    # Add stations and isochrones to the map\n",
    "    for feature in metro_stations['features']:\n",
    "        properties = feature['properties']\n",
    "        coordinates = feature['geometry']['coordinates']\n",
    "        lng, lat = coordinates[0], coordinates[1]\n",
    "        \n",
    "        # Add station marker\n",
    "        folium.CircleMarker(\n",
    "            location=[lat, lng],\n",
    "            radius=8,\n",
    "            popup=folium.Popup(f\"<b>{properties['NOMBRE']}</b><br>Line: {properties['LINEA']}<br>Type: {properties['TIPO']}<br>Borough: {properties['ALCALDIAS']}<br>Year: {properties['AÑO']}\", max_width=300),\n",
    "            color='black',\n",
    "            fill=True,\n",
    "            fillColor=get_station_color(properties['TIPO']),\n",
    "            fillOpacity=0.7\n",
    "        ).add_to(m)\n",
    "        \n",
    "        # Get and add isochrone\n",
    "        isochrone = get_isochrone(lat, lng, 15)  # 15-minute isochrone\n",
    "        if isochrone:\n",
    "            folium.GeoJson(\n",
    "                isochrone,\n",
    "                style_function=lambda x: {'fillColor': 'green', 'color': 'green', 'weight': 2, 'fillOpacity': 0.3}\n",
    "            ).add_to(m)\n",
    "        \n",
    "        time.sleep(1)  # Sleep to avoid hitting API rate limits\n",
    "\n",
    "    return m\n",
    "\n",
    "# Create and display the map\n",
    "m = create_map()\n",
    "m"
   ]
  },
  {
   "cell_type": "markdown",
   "metadata": {},
   "source": [
    "## Save the Map\n",
    "\n",
    "To save the map as an HTML file that you can download:"
   ]
  },
  {
   "cell_type": "code",
   "execution_count": null,
   "metadata": {},
   "outputs": [],
   "source": [
    "m.save(\"mexico_city_metro_map.html\")\n",
    "files.download(\"mexico_city_metro_map.html\")"
   ]
  }
 ],
 "metadata": {
  "kernelspec": {
   "display_name": "Python 3",
   "language": "python",
   "name": "python3"
  },
  "language_info": {
   "codemirror_mode": {
    "name": "ipython",
    "version": 3
   },
   "file_extension": ".py",
   "mimetype": "text/x-python",
   "name": "python",
   "nbconvert_exporter": "python",
   "pygments_lexer": "ipython3",
   "version": "3.8.5"
  }
 },
 "nbformat": 4,
 "nbformat_minor": 4
}
